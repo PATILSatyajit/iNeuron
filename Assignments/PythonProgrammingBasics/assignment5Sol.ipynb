{
 "cells": [
  {
   "cell_type": "code",
   "execution_count": 23,
   "metadata": {},
   "outputs": [
    {
     "name": "stdout",
     "output_type": "stream",
     "text": [
      "The LCM is 72\n"
     ]
    }
   ],
   "source": [
    "# 1.\tWrite a Python Program to Find LCM?\n",
    "\n",
    "def lcm(num1, num2):\n",
    "   if num1 > num2:\n",
    "       greater = num1\n",
    "   else:\n",
    "       greater = num2\n",
    "\n",
    "   while(True):\n",
    "       if((greater % num1 == 0) and (greater % num2 == 0)):\n",
    "           lcm = greater\n",
    "           break\n",
    "       greater += 1\n",
    "\n",
    "   return lcm\n",
    "\n",
    "num1 = 36\n",
    "num2 = 24\n",
    "\n",
    "print(\"The LCM is\", lcm(num1, num2))\n"
   ]
  },
  {
   "cell_type": "code",
   "execution_count": 1,
   "metadata": {},
   "outputs": [
    {
     "name": "stdout",
     "output_type": "stream",
     "text": [
      "The H.C.F. is 12\n"
     ]
    }
   ],
   "source": [
    "\n",
    "# 2.\tWrite a Python Program to Find HCF?\n",
    "\n",
    "def hcf(num1, num2):\n",
    "    if num1 > num2:\n",
    "        smaller = num2\n",
    "    else:\n",
    "        smaller = num1\n",
    "    for i in range(1, smaller+1):\n",
    "        if((num1 % i == 0) and (num2 % i == 0)):\n",
    "            hcf = i \n",
    "    return hcf\n",
    "\n",
    "num1 = 36\n",
    "num2 = 24\n",
    "\n",
    "print(\"The HCF is\", hcf(num1, num2))\n"
   ]
  },
  {
   "cell_type": "code",
   "execution_count": 13,
   "metadata": {},
   "outputs": [
    {
     "name": "stdout",
     "output_type": "stream",
     "text": [
      "decimal to binary of 28 :  11100\n",
      "decimal to octal of 28 :  34\n",
      "decimal to hex of 28 :  0x1c\n"
     ]
    }
   ],
   "source": [
    "# 3.\tWrite a Python Program to Convert Decimal to Binary, Octal and Hexadecimal?\n",
    "\n",
    "# if (num > 1)\n",
    "num = int(input(\"ENTER NUMBER\"))\n",
    "print(\"decimal to binary of\",num,\": \",bin(num)[2:])\n",
    "print(\"decimal to octal of\",num,\": \",oct(num)[2:])\n",
    "print(\"decimal to hex of\",num,\": \",hex(num))\n",
    "\n"
   ]
  },
  {
   "cell_type": "code",
   "execution_count": 16,
   "metadata": {},
   "outputs": [
    {
     "name": "stdout",
     "output_type": "stream",
     "text": [
      "achii value of a is : 97\n",
      "achii value of A is : 65\n",
      "achii value of / is : 47\n"
     ]
    }
   ],
   "source": [
    "# 4.\tWrite a Python Program To Find ASCII value of a character?\n",
    "char1 = 'a'\n",
    "char2 = 'A'\n",
    "char3 = '/'\n",
    "\n",
    "print(\"achii value of\",char1,\"is :\",ord(char1))\n",
    "print(\"achii value of\",char2,\"is :\",ord(char2))\n",
    "print(\"achii value of\",char3,\"is :\",ord(char3))\n",
    "    "
   ]
  },
  {
   "cell_type": "code",
   "execution_count": 22,
   "metadata": {},
   "outputs": [
    {
     "name": "stdout",
     "output_type": "stream",
     "text": [
      "select operation \n",
      " 1.Addition \n",
      " 2.Subtrcation \n",
      " 3.Multiplication \n",
      " 4.Division \n",
      "addition of 2.3 and 5.2 is 7.5\n"
     ]
    }
   ],
   "source": [
    "# 5.\tWrite a Python Program to Make a Simple Calculator with 4 basic mathematical operations?\n",
    "\n",
    "def calculator(a,b,operation):\n",
    "    sol = 0\n",
    "    if operation == 1:\n",
    "        print(f\"addition of {a} and {b} is {a+b}\")\n",
    "    elif operation == 2:\n",
    "        print(f\"addition of {a} and {b} is {a-b}\")\n",
    "    elif operation == 3:\n",
    "        print(f\"addition of {a} and {b} is {a*b}\")\n",
    "    elif operation == 4:\n",
    "        print(f\"addition of {a} and {b} is {a/b}\")\n",
    "    else:\n",
    "        print(\"INVALID OPERATION SELECTED\")\n",
    "\n",
    "print(\"select operation \")\n",
    "print(\" 1.Addition \")\n",
    "print(\" 2.Subtrcation \")\n",
    "print(\" 3.Multiplication \")\n",
    "print(\" 4.Division \")\n",
    "operation = int(input())\n",
    "\n",
    "num1 = float(input(\"enter number 1\"))\n",
    "num2 = float(input(\"enter number 2\"))\n",
    "\n",
    "calculator(num1,num2,operation)\n"
   ]
  }
 ],
 "metadata": {
  "kernelspec": {
   "display_name": "Python 3",
   "language": "python",
   "name": "python3"
  },
  "language_info": {
   "codemirror_mode": {
    "name": "ipython",
    "version": 3
   },
   "file_extension": ".py",
   "mimetype": "text/x-python",
   "name": "python",
   "nbconvert_exporter": "python",
   "pygments_lexer": "ipython3",
   "version": "3.10.5"
  },
  "orig_nbformat": 4,
  "vscode": {
   "interpreter": {
    "hash": "26de051ba29f2982a8de78e945f0abaf191376122a1563185a90213a26c5da77"
   }
  }
 },
 "nbformat": 4,
 "nbformat_minor": 2
}
