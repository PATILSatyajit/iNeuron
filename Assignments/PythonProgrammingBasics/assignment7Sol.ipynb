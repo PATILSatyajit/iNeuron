{
 "cells": [
  {
   "cell_type": "code",
   "execution_count": 8,
   "metadata": {},
   "outputs": [
    {
     "name": "stdout",
     "output_type": "stream",
     "text": [
      "sum is 55\n"
     ]
    }
   ],
   "source": [
    "# 1. Write a Python Program to find sum of array?\n",
    "arr = [1,2,3,4,5,6,7,8,9,10]\n",
    "sum = 0\n",
    "for item in arr:\n",
    "    sum = sum + item\n",
    "print(\"sum is\",sum)\n"
   ]
  },
  {
   "cell_type": "code",
   "execution_count": 19,
   "metadata": {},
   "outputs": [
    {
     "name": "stdout",
     "output_type": "stream",
     "text": [
      "largest element in array is: 90\n",
      "largest element in array is: 90\n"
     ]
    }
   ],
   "source": [
    "# 2. Write a Python Program to find largest element in an array?\n",
    "import random\n",
    "\n",
    "arr = []\n",
    "\n",
    "for i in range(10):\n",
    "    arr.append(random.randint(0,100))\n",
    "\n",
    "arr.sort()\n",
    "print(\"largest element in array is:\",arr[len(arr)-1])\n",
    "\n",
    "# solution 2\n",
    "def maxFinder(arr):\n",
    "    max=0\n",
    "    for item in arr:\n",
    "        if item>max:\n",
    "            max = item\n",
    "    return max\n",
    "\n",
    "print(\"largest element in array is:\",maxFinder(arr))\n"
   ]
  },
  {
   "cell_type": "code",
   "execution_count": 32,
   "metadata": {},
   "outputs": [
    {
     "name": "stdout",
     "output_type": "stream",
     "text": [
      "original array:  [25, 28, 43, 2, 78, 34, 58, 76, 82, 100]\n",
      "rotated array :  [100, 82, 76, 58, 34, 78, 2, 43, 28, 25]\n"
     ]
    }
   ],
   "source": [
    "\n",
    "# 3. Write a Python Program for array rotation?\n",
    "\n",
    "import random\n",
    "\n",
    "def arrRotate(arr):\n",
    "    arrNew = []\n",
    "    for i in range(1,len(arr)+1):\n",
    "        arrNew.append(arr[-i])\n",
    "    return arrNew\n",
    "    \n",
    "arr = []\n",
    "\n",
    "for i in range(10):\n",
    "    arr.append(random.randint(0,100))\n",
    "print(\"original array: \",arr)\n",
    "print(\"rotated array : \",arrRotate(arr))"
   ]
  },
  {
   "cell_type": "code",
   "execution_count": 40,
   "metadata": {},
   "outputs": [
    {
     "name": "stdout",
     "output_type": "stream",
     "text": [
      "original array:  [100, 32, 0, 64, 83, 53, 66, 7, 56, 62]\n",
      "splitted array:  [53, 66, 7, 56, 62, 100, 32, 0, 64, 83]\n"
     ]
    }
   ],
   "source": [
    "# 4. Write a Python Program to Split the array and add the first part to the end?\n",
    "import random\n",
    "\n",
    "def fun(arr):\n",
    "    arrNew = []\n",
    "    Len = len(arr)\n",
    "    if Len%2 ==0:\n",
    "        for i in range(int(Len/2),Len):\n",
    "            arrNew.append(arr[i])\n",
    "        for i in range(0,int(Len/2)):\n",
    "            arrNew.append(arr[i])\n",
    "        # arrNew[:Len/2] = arr[Len/2:]\n",
    "        # arrNew[Len/2:] = arr[:Len/2]\n",
    "        return arrNew\n",
    "\n",
    "arr = []\n",
    "\n",
    "for i in range(10):\n",
    "    arr.append(random.randint(0,100))\n",
    "    \n",
    "print(\"original array: \",arr)\n",
    "print(\"splitted array: \",fun(arr))\n"
   ]
  },
  {
   "cell_type": "code",
   "execution_count": 57,
   "metadata": {},
   "outputs": [
    {
     "name": "stdout",
     "output_type": "stream",
     "text": [
      "array [10, 98, 54, 96, 87, 20, 94, 96, 20, 47] is NOT monotonic\n",
      "array [10, 20, 20, 47, 54, 87, 94, 96, 96, 98] is monotonic\n"
     ]
    }
   ],
   "source": [
    "# 5. Write a Python Program to check if given array is Monotonic?\n",
    "import random\n",
    "\n",
    "def monotonicValidator(arr):\n",
    "    if all(arr[i] >= arr[i+1] for i in range(len(arr)-1)) or all(arr[i] <= arr[i+1] for i in range(len(arr)-1)):\n",
    "        print(\"array\",arr,\"is monotonic\")\n",
    "    else :\n",
    "        print(\"array\",arr,\"is NOT monotonic\")\n",
    "\n",
    "arr = []\n",
    "\n",
    "for i in range(10):\n",
    "    arr.append(random.randint(0,100))\n",
    "\n",
    "\n",
    "monotonicValidator(arr)\n",
    "arr.sort()\n",
    "monotonicValidator(arr)"
   ]
  },
  {
   "cell_type": "code",
   "execution_count": null,
   "metadata": {},
   "outputs": [],
   "source": []
  }
 ],
 "metadata": {
  "kernelspec": {
   "display_name": "Python 3",
   "language": "python",
   "name": "python3"
  },
  "language_info": {
   "codemirror_mode": {
    "name": "ipython",
    "version": 3
   },
   "file_extension": ".py",
   "mimetype": "text/x-python",
   "name": "python",
   "nbconvert_exporter": "python",
   "pygments_lexer": "ipython3",
   "version": "3.10.5"
  },
  "orig_nbformat": 4,
  "vscode": {
   "interpreter": {
    "hash": "26de051ba29f2982a8de78e945f0abaf191376122a1563185a90213a26c5da77"
   }
  }
 },
 "nbformat": 4,
 "nbformat_minor": 2
}
