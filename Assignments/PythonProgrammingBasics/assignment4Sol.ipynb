{
 "cells": [
  {
   "cell_type": "code",
   "execution_count": 4,
   "metadata": {},
   "outputs": [
    {
     "name": "stdout",
     "output_type": "stream",
     "text": [
      "FACTORIAL OF 1 IS :  1\n"
     ]
    }
   ],
   "source": [
    "# 1.\tWrite a Python Program to Find the Factorial of a Number?\n",
    "def findFactorial(num):\n",
    "    fact = 1\n",
    "    if(not num):\n",
    "        print(\"FACTORIAL OF\",num,\" IS 0\")\n",
    "    elif(num>0):\n",
    "        for i in range(1,num+1):\n",
    "            fact = fact * i\n",
    "        print(\"FACTORIAL OF\",num,\"IS : \",fact)\n",
    "    else:\n",
    "        print(\"ENTER NUMBER POSITIVE NUMBER\")\n",
    "\n",
    "findFactorial(int(input(\"ENTER NUMBER :\")))    \n"
   ]
  },
  {
   "cell_type": "code",
   "execution_count": 7,
   "metadata": {},
   "outputs": [
    {
     "name": "stdout",
     "output_type": "stream",
     "text": [
      "5\n",
      "10\n",
      "15\n",
      "20\n",
      "25\n",
      "30\n",
      "35\n",
      "40\n",
      "45\n",
      "50\n"
     ]
    }
   ],
   "source": [
    "# 2.\tWrite a Python Program to Display the multiplication Table?\n",
    "def tablePrinter(num,end):\n",
    "    for i in range(1,end+1):\n",
    "        print(num*i)\n",
    "num = int(input(\"enter number of which multiplication table required :\"))        \n",
    "# end = int(input(\"enter total counts :\"))\n",
    "tablePrinter(num,10)"
   ]
  },
  {
   "cell_type": "code",
   "execution_count": 14,
   "metadata": {},
   "outputs": [
    {
     "name": "stdout",
     "output_type": "stream",
     "text": [
      "0, 1, 1, 2, 3, 5, 8, 13, 21, 34, 55, 89, "
     ]
    }
   ],
   "source": [
    "# 3.\tWrite a Python Program to Print the Fibonacci sequence?\n",
    "fibSeries = []\n",
    "def fibonacciPrinter(counts):\n",
    "    start, end, num = 0,1,0\n",
    "    \n",
    "    fibSeries.append(start)\n",
    "    fibSeries.append(end)\n",
    "    \n",
    "    for i in range(counts):\n",
    "        num = start + end\n",
    "        fibSeries.append(num)\n",
    "        start = end\n",
    "        end = num\n",
    "\n",
    "fibonacciPrinter(10)\n",
    "\n",
    "for i in range(len(fibSeries)):\n",
    "    print(fibSeries[i],end=\", \")\n"
   ]
  },
  {
   "cell_type": "code",
   "execution_count": 15,
   "metadata": {},
   "outputs": [
    {
     "name": "stdout",
     "output_type": "stream",
     "text": [
      "NUM IS ARMSTRONG NUMBER\n"
     ]
    }
   ],
   "source": [
    "# 4.\tWrite a Python Program to Check Armstrong Number?\n",
    "\n",
    "def armstrongValidator(num):\n",
    "    digits = []\n",
    "    sum = 0\n",
    "    for digit in num:\n",
    "        sum = sum + (int(digit)**len(num))\n",
    "\n",
    "    if sum == int(num):\n",
    "        print(\"NUM IS ARMSTRONG NUMBER\")\n",
    "    else :\n",
    "        print(\"NUM IS NOT ARMSTRONG NUMBER\")\n",
    "\n",
    "armstrongValidator(input(\"ENTER NUMBER TO CHECK:\"))\n"
   ]
  },
  {
   "cell_type": "code",
   "execution_count": 19,
   "metadata": {},
   "outputs": [
    {
     "name": "stdout",
     "output_type": "stream",
     "text": [
      "ARMSTRONG NUMBERS FROM INTERVAL 0 TO  1000 ARE : \n",
      "[0, 1, 153, 370, 371, 407]\n"
     ]
    }
   ],
   "source": [
    "# 5.\tWrite a Python Program to Find Armstrong Number in an Interval?\n",
    "def armstrongFinder(start,end):\n",
    "    print(\"ARMSTRONG NUMBERS FROM INTERVAL\",start,\"TO \",end,\"ARE : \")\n",
    "    sum, num = 0, 0\n",
    "    armstrong = []\n",
    "    if start == 0:\n",
    "        armstrong.append(start)\n",
    "        armstrong.append(start+1)\n",
    "        start = 10\n",
    "    elif start == 1:\n",
    "        armstrong.append(start)\n",
    "        start = 10\n",
    "\n",
    "    for i in range(start,end+1):\n",
    "        for digit in str(i):\n",
    "            sum = sum + (int(digit)**len(str(i)))\n",
    "        if sum == i:\n",
    "            armstrong.append(i)\n",
    "        sum = 0\n",
    "    print(armstrong[:len(armstrong)])\n",
    "\n",
    "armstrongFinder(int(input(\"start interval\")),int(input(\"end interval\")))"
   ]
  },
  {
   "cell_type": "code",
   "execution_count": 24,
   "metadata": {},
   "outputs": [
    {
     "name": "stdout",
     "output_type": "stream",
     "text": [
      "SUM OF NATURAL NUMBERS FROM 1 TO 100 IS 5050\n"
     ]
    }
   ],
   "source": [
    "# 6.\tWrite a Python Program to Find the Sum of Natural Numbers?\n",
    "def sum(start,end):\n",
    "    sum = 0\n",
    "    if(start):\n",
    "        for i in range(start,end+1):\n",
    "            sum = sum + i\n",
    "        print(\"SUM OF NATURAL NUMBERS FROM\",start,\"TO\",end,\"IS\",sum)\n",
    "    else:\n",
    "        print(\"0 is NOT A NATURAL NUMBER\")\n",
    "\n",
    "sum(int(input(\"ENTER START INTERVAL: \")),int(input(\"ENTER END INTERVAL: \")))\n"
   ]
  },
  {
   "cell_type": "code",
   "execution_count": null,
   "metadata": {},
   "outputs": [],
   "source": []
  }
 ],
 "metadata": {
  "kernelspec": {
   "display_name": "Python 3.10.5 64-bit",
   "language": "python",
   "name": "python3"
  },
  "language_info": {
   "codemirror_mode": {
    "name": "ipython",
    "version": 3
   },
   "file_extension": ".py",
   "mimetype": "text/x-python",
   "name": "python",
   "nbconvert_exporter": "python",
   "pygments_lexer": "ipython3",
   "version": "3.10.5 (tags/v3.10.5:f377153, Jun  6 2022, 16:14:13) [MSC v.1929 64 bit (AMD64)]"
  },
  "orig_nbformat": 4,
  "vscode": {
   "interpreter": {
    "hash": "26de051ba29f2982a8de78e945f0abaf191376122a1563185a90213a26c5da77"
   }
  }
 },
 "nbformat": 4,
 "nbformat_minor": 2
}
