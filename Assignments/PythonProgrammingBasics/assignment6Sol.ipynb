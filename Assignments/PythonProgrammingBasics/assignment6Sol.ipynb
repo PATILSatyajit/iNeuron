{
 "cells": [
  {
   "cell_type": "code",
   "execution_count": 43,
   "metadata": {},
   "outputs": [
    {
     "name": "stdout",
     "output_type": "stream",
     "text": [
      "0\n",
      "1\n",
      "1\n",
      "2\n",
      "3\n",
      "5\n",
      "8\n",
      "13\n",
      "21\n",
      "34\n"
     ]
    }
   ],
   "source": [
    "# 1. Write a Python Program to Display Fibonacci Sequence Using Recursion?\n",
    "# 0,1, 1, 2, 3, 5, 8, 13, 21, 34, 55, 89,\n",
    "def recursiveFib(num):\n",
    "    if num <= 1:\n",
    "        return num\n",
    "    else:\n",
    "        return(recursiveFib(num-2)+recursiveFib(num-1))\n",
    "\n",
    "for i in range(10):\n",
    "    print(recursiveFib(i))\n"
   ]
  },
  {
   "cell_type": "code",
   "execution_count": 16,
   "metadata": {},
   "outputs": [
    {
     "name": "stdout",
     "output_type": "stream",
     "text": [
      "factorial of 7 is 5040\n"
     ]
    }
   ],
   "source": [
    "# 2. Write a Python Program to Find Factorial of Number Using Recursion?\n",
    "\n",
    "def findFactorial(num):\n",
    "    if num == 1 or num == 0:\n",
    "        return 1\n",
    "    return num*findFactorial(num-1)\n",
    "\n",
    "try:\n",
    "    num = int(input(\"enter number\"))\n",
    "except ValueError:\n",
    "    print(\"please enter a valid integer number\")\n",
    "else:\n",
    "    print(\"factorial of\",num,\"is\",findFactorial(num))\n"
   ]
  },
  {
   "cell_type": "code",
   "execution_count": 20,
   "metadata": {},
   "outputs": [
    {
     "name": "stdout",
     "output_type": "stream",
     "text": [
      "Invalid data provided\n"
     ]
    }
   ],
   "source": [
    "# 3. Write a Python Program to calculate your Body Mass Index?\n",
    "\n",
    "def BMIcalculator(weight,height):\n",
    "    return weight/((height / 100)**2)\n",
    "\n",
    "try:\n",
    "    weight = float(input(\"Enter wight in Kg : \"))\n",
    "    height = float(input(\"Enter height in cm : \"))\n",
    "except Exception as ValueError:\n",
    "    print(\"Invalid data provided\")\n",
    "else:\n",
    "    print(\"Your BMI is\", BMIcalculator(weight,height))\n"
   ]
  },
  {
   "cell_type": "code",
   "execution_count": 41,
   "metadata": {},
   "outputs": [
    {
     "name": "stdout",
     "output_type": "stream",
     "text": [
      "0.6020599913279624\n"
     ]
    }
   ],
   "source": [
    "# 4. Write a Python Program to calculate the natural logarithm of any number?\n",
    "\n",
    "import math\n",
    "\n",
    "try:\n",
    "    num = float(input(\"enter number: \"))\n",
    "except:\n",
    "    print(\"INVALID ENTRY\")\n",
    "else:\n",
    "    print(math.log10(num))\n",
    "\n"
   ]
  },
  {
   "cell_type": "code",
   "execution_count": 28,
   "metadata": {},
   "outputs": [
    {
     "name": "stdout",
     "output_type": "stream",
     "text": [
      "224\n"
     ]
    }
   ],
   "source": [
    "# 5. Write a Python Program for cube sum of first n natural numbers?  \n",
    "\n",
    "import sys\n",
    "\n",
    "def fun(num):\n",
    "    if num == 0:\n",
    "        return 0\n",
    "    elif num == 1:\n",
    "        return 1\n",
    "    return (num**3) + fun(num - 1)\n",
    "\n",
    "try:\n",
    "    num = int(input())\n",
    "except:\n",
    "    print(sys.exc_info()[0])\n",
    "    print(\"INVALID NUMBER\")\n",
    "else:\n",
    "    print(\"Cube sum of first\",num,\"natural numbers is:\",fun(num))"
   ]
  },
  {
   "cell_type": "code",
   "execution_count": null,
   "metadata": {},
   "outputs": [],
   "source": []
  }
 ],
 "metadata": {
  "kernelspec": {
   "display_name": "Python 3",
   "language": "python",
   "name": "python3"
  },
  "language_info": {
   "codemirror_mode": {
    "name": "ipython",
    "version": 3
   },
   "file_extension": ".py",
   "mimetype": "text/x-python",
   "name": "python",
   "nbconvert_exporter": "python",
   "pygments_lexer": "ipython3",
   "version": "3.10.5"
  },
  "orig_nbformat": 4,
  "vscode": {
   "interpreter": {
    "hash": "26de051ba29f2982a8de78e945f0abaf191376122a1563185a90213a26c5da77"
   }
  }
 },
 "nbformat": 4,
 "nbformat_minor": 2
}
